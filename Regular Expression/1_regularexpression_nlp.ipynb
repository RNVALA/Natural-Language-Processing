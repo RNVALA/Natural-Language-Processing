{
 "cells": [
  {
   "cell_type": "code",
   "execution_count": 1,
   "id": "1a757fca",
   "metadata": {},
   "outputs": [],
   "source": [
    "import re \n",
    "#inbuilt python module allows you to match pattern"
   ]
  },
  {
   "cell_type": "code",
   "execution_count": 2,
   "id": "cd59f876",
   "metadata": {},
   "outputs": [],
   "source": [
    "#regx101.com it is a website where you can try that your regular expression is correct or not\n",
    "chat1=\"my mobile number and email is 9054333595 and ronakvala5614140@gmail.com respectively and order no is #41288912\"\n",
    "chat2=\"9054333595,(905)-433-3595,and ronakvala5614140@gmail.com,200303124013@paruluniversity.ac.in,9054333595 is my mobule no and enail id\"\n",
    "chat3=\"hello friends,9054333595 and ronakvala5614140@gmail.com is my mobile no and email id\""
   ]
  },
  {
   "cell_type": "code",
   "execution_count": 3,
   "id": "51fcd1b4",
   "metadata": {},
   "outputs": [
    {
     "data": {
      "text/plain": [
       "['9054333595', '(905)-433-3595', '2003031240', '9054333595']"
      ]
     },
     "execution_count": 3,
     "metadata": {},
     "output_type": "execute_result"
    }
   ],
   "source": [
    "pattern='\\d{10}|\\(\\d{3}\\)-\\d{3}-\\d{4}'\n",
    "matches=re.findall(pattern,chat2)\n",
    "matches"
   ]
  },
  {
   "cell_type": "code",
   "execution_count": 4,
   "id": "e023d9c0",
   "metadata": {},
   "outputs": [
    {
     "data": {
      "text/plain": [
       "['200303124013@paruluniversity.ac.in']"
      ]
     },
     "execution_count": 4,
     "metadata": {},
     "output_type": "execute_result"
    }
   ],
   "source": [
    "patternemail='\\w*@\\w*.\\w*.in'\n",
    "matches=re.findall(patternemail,chat2)\n",
    "matches"
   ]
  },
  {
   "cell_type": "code",
   "execution_count": 5,
   "id": "6185bc51",
   "metadata": {},
   "outputs": [
    {
     "data": {
      "text/plain": [
       "['41288912']"
      ]
     },
     "execution_count": 5,
     "metadata": {},
     "output_type": "execute_result"
    }
   ],
   "source": [
    "patterorderno='order[^\\d]*(\\d*)'\n",
    "#order[^\\d]*\\d*\n",
    "#by this I got 'order no is #41288912' but i want to only the no than i will put the round bracket in expression where i need the\n",
    "#order so, i put round bracket on last (d)\n",
    "matchesorderno=re.findall(patterorderno,chat1)\n",
    "matchesorderno\n"
   ]
  },
  {
   "cell_type": "code",
   "execution_count": 12,
   "id": "819ff7ec",
   "metadata": {},
   "outputs": [
    {
     "name": "stdout",
     "output_type": "stream",
     "text": [
      "51\n"
     ]
    }
   ],
   "source": [
    "text='''Born\tElon Reeve Musk\n",
    "June 28, 1971 (age 51)\n",
    "Pretoria, Transvaal, South Africa\n",
    "Education\tUniversity of Pennsylvania (BA, BS)\n",
    "Title\t\n",
    "Founder, CEO and chief engineer of SpaceX\n",
    "CEO and product architect of Tesla, Inc.\n",
    "CEO of Twitter\n",
    "Founder and CEO of X Corp. and X.AI\n",
    "President of the Musk Foundation\n",
    "Founder of the Boring Company\n",
    "Co-founder of Neuralink, OpenAI, Zip2 and X.com (now part of PayPal)\n",
    "Spouses\t\n",
    "Justine Wilson\n",
    "​\n",
    "​(m. 2000; div. 2008)​\n",
    "Talulah Riley\n",
    "​\n",
    "​(m. 2010; div. 2012)​\n",
    "​\n",
    "​(m. 2013; div. 2016)​\n",
    "Partner\tGrimes (2018–2021)[1]\n",
    "Children\t10[a][3]\n",
    "Parents\t\n",
    "Errol Musk (father)\n",
    "Maye Musk (mother)\n",
    "Family\tMusk family\n",
    "Awards\tList of honors and awards'''\n",
    "#''' is a multiline string you can use the  double inveted comma in this after using multiline string'''\n",
    "pattern='age (\\d+)'\n",
    "matches=re.findall(pattern,text)\n",
    "print(matches[0].strip())"
   ]
  },
  {
   "cell_type": "code",
   "execution_count": 14,
   "id": "267c1974",
   "metadata": {},
   "outputs": [
    {
     "name": "stdout",
     "output_type": "stream",
     "text": [
      "June 28, 1971\n"
     ]
    }
   ],
   "source": [
    "pattern='Born.*\\n(.*)\\(age'\n",
    "matches=re.findall(pattern,text)\n",
    "print(matches[0].strip())"
   ]
  },
  {
   "cell_type": "code",
   "execution_count": 17,
   "id": "53306e6c",
   "metadata": {},
   "outputs": [
    {
     "data": {
      "text/plain": [
       "'Pretoria, Transvaal, South Africa'"
      ]
     },
     "execution_count": 17,
     "metadata": {},
     "output_type": "execute_result"
    }
   ],
   "source": [
    "#now i want to find birthplace so birthplace pattern will be that it comes after age line all line is birthplace\n",
    "pattern='\\(age.*\\n(.*)'\n",
    "#in this it will print the all line after the age line here . is used for any single character and start means 0 and all\n",
    "abc=re.findall(pattern,text)\n",
    "abc[0].strip()"
   ]
  },
  {
   "cell_type": "code",
   "execution_count": 18,
   "id": "73e23397",
   "metadata": {},
   "outputs": [],
   "source": [
    "def get_pattern_match(pattern,text):\n",
    "    matches=re.findall(pattern,text)\n",
    "    if matches:\n",
    "        return matches[0]\n",
    "    "
   ]
  },
  {
   "cell_type": "code",
   "execution_count": 20,
   "id": "aeafc90d",
   "metadata": {},
   "outputs": [
    {
     "data": {
      "text/plain": [
       "'Pretoria, Transvaal, South Africa'"
      ]
     },
     "execution_count": 20,
     "metadata": {},
     "output_type": "execute_result"
    }
   ],
   "source": [
    "get_pattern_match(pattern,text)"
   ]
  },
  {
   "cell_type": "code",
   "execution_count": 22,
   "id": "289e62b8",
   "metadata": {},
   "outputs": [],
   "source": [
    "def get_personal_information(text):\n",
    "    full_name=get_pattern_match('Born(.*)\\n',text)\n",
    "    age=get_pattern_match('age (\\d+)',text)\n",
    "    birthdate=get_pattern_match('Born.*\\n(.*)\\(age',text)\n",
    "    birthplace=get_pattern_match('\\(age.*\\n(.*)',text)\n",
    "    return{\n",
    "        'age':int(age),\n",
    "        'name':full_name.strip(),\n",
    "        'birthdate':birthdate.strip(),\n",
    "        'birthplace':birthplace.strip()\n",
    "    }\n",
    "    "
   ]
  },
  {
   "cell_type": "code",
   "execution_count": 23,
   "id": "e53d288e",
   "metadata": {},
   "outputs": [
    {
     "data": {
      "text/plain": [
       "{'age': 51,\n",
       " 'name': 'Elon Reeve Musk',\n",
       " 'birthdate': 'June 28, 1971',\n",
       " 'birthplace': 'Pretoria, Transvaal, South Africa'}"
      ]
     },
     "execution_count": 23,
     "metadata": {},
     "output_type": "execute_result"
    }
   ],
   "source": [
    "get_personal_information(text)"
   ]
  },
  {
   "cell_type": "code",
   "execution_count": null,
   "id": "67df257c",
   "metadata": {},
   "outputs": [],
   "source": []
  }
 ],
 "metadata": {
  "kernelspec": {
   "display_name": "Python 3 (ipykernel)",
   "language": "python",
   "name": "python3"
  },
  "language_info": {
   "codemirror_mode": {
    "name": "ipython",
    "version": 3
   },
   "file_extension": ".py",
   "mimetype": "text/x-python",
   "name": "python",
   "nbconvert_exporter": "python",
   "pygments_lexer": "ipython3",
   "version": "3.9.12"
  }
 },
 "nbformat": 4,
 "nbformat_minor": 5
}
