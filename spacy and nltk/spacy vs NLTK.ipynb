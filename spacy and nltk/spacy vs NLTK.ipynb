{
 "cells": [
  {
   "cell_type": "code",
   "execution_count": 1,
   "id": "b3f4596d",
   "metadata": {},
   "outputs": [],
   "source": [
    "#spacy is object oriented while NLTK is string processing libraries\n",
    "#spacy provides most efficient Nlp algorithm for a given task.hence if you care about the end result, go with spacy,\n",
    "#while NLTK provides access to many algorithms. if you care about specific algorithm and customiation go with nltk\n",
    "#spacy provides most efficent NLP algorithm for a given task, Hence If you care about the end result,go with spacy\n",
    "#NLTK provides access to many algorithms. If you care about specific algo and customization go with NLTK\n",
    "#spacy perfets for app developers and NLTK perfet for researchers.\n",
    "#spacy is new library and has a very active user community\n",
    "#NlTK is old library User community not as active as spacy\n",
    "#!pip install spacy"
   ]
  },
  {
   "cell_type": "code",
   "execution_count": 2,
   "id": "3f2058b1",
   "metadata": {},
   "outputs": [],
   "source": [
    "#!pip install NLTK\n"
   ]
  },
  {
   "cell_type": "code",
   "execution_count": 3,
   "id": "b02169b3",
   "metadata": {},
   "outputs": [],
   "source": [
    "#!python -m  spacy download en"
   ]
  },
  {
   "cell_type": "code",
   "execution_count": 4,
   "id": "c79ab283",
   "metadata": {},
   "outputs": [],
   "source": [
    "#in spacy we are doing santance and word tokenizer \n",
    "import spacy"
   ]
  },
  {
   "cell_type": "code",
   "execution_count": 5,
   "id": "8a5ddb48",
   "metadata": {},
   "outputs": [],
   "source": [
    "nlp=spacy.load(\"en_core_web_sm\")"
   ]
  },
  {
   "cell_type": "code",
   "execution_count": 6,
   "id": "7c4f68f7",
   "metadata": {},
   "outputs": [
    {
     "name": "stdout",
     "output_type": "stream",
     "text": [
      "Hello I loves pau Bhaji.\n",
      "Meet loves chaat of delhi\n"
     ]
    }
   ],
   "source": [
    "doc=nlp(\"Hello I loves pau Bhaji. Meet loves chaat of delhi\")\n",
    "\n",
    "for sentence in doc.sents:\n",
    "    print(sentence)\n",
    "    #this is basically sentance tockenizer \n",
    "    #it is object oriented bcz we created an object and object have .sents properties thats why its object oriented"
   ]
  },
  {
   "cell_type": "code",
   "execution_count": 7,
   "id": "a2085ec3",
   "metadata": {},
   "outputs": [
    {
     "name": "stdout",
     "output_type": "stream",
     "text": [
      "Hello\n",
      "I\n",
      "loves\n",
      "pau\n",
      "Bhaji\n",
      ".\n",
      "Meet\n",
      "loves\n",
      "chaat\n",
      "of\n",
      "delhi\n"
     ]
    }
   ],
   "source": [
    "for sentance in doc.sents:\n",
    "    for word in sentance:\n",
    "        print(word)\n",
    "        #word tokenizer"
   ]
  },
  {
   "cell_type": "code",
   "execution_count": 8,
   "id": "52dd2c71",
   "metadata": {},
   "outputs": [],
   "source": [
    "#same with NLTK\n",
    "import nltk"
   ]
  },
  {
   "cell_type": "code",
   "execution_count": 9,
   "id": "7e75b9a4",
   "metadata": {},
   "outputs": [
    {
     "data": {
      "text/plain": [
       "['DR. strange  loves pav Bhaji of mumbai.', 'Hulk loves chat of delhi']"
      ]
     },
     "execution_count": 9,
     "metadata": {},
     "output_type": "execute_result"
    }
   ],
   "source": [
    "from nltk.tokenize import sent_tokenize\n",
    "#here in nltk there are many tokenizer but we are selecting the sent_tokenize tokenizer\n",
    "sent_tokenize(\"DR. strange  loves pav Bhaji of mumbai. Hulk loves chat of delhi\")\n"
   ]
  },
  {
   "cell_type": "code",
   "execution_count": 10,
   "id": "08d3d6c7",
   "metadata": {},
   "outputs": [
    {
     "data": {
      "text/plain": [
       "['DR.',\n",
       " 'strange',\n",
       " 'loves',\n",
       " 'pav',\n",
       " 'bhaji',\n",
       " 'of',\n",
       " 'mumbai',\n",
       " '.',\n",
       " 'Hulk',\n",
       " 'loves',\n",
       " 'chat',\n",
       " 'of',\n",
       " 'delhi']"
      ]
     },
     "execution_count": 10,
     "metadata": {},
     "output_type": "execute_result"
    }
   ],
   "source": [
    "from nltk.tokenize import word_tokenize\n",
    "word_tokenize(\"DR. strange loves pav bhaji of mumbai. Hulk loves chat of delhi\")"
   ]
  },
  {
   "cell_type": "code",
   "execution_count": null,
   "id": "2018d693",
   "metadata": {},
   "outputs": [],
   "source": []
  }
 ],
 "metadata": {
  "kernelspec": {
   "display_name": "Python 3 (ipykernel)",
   "language": "python",
   "name": "python3"
  },
  "language_info": {
   "codemirror_mode": {
    "name": "ipython",
    "version": 3
   },
   "file_extension": ".py",
   "mimetype": "text/x-python",
   "name": "python",
   "nbconvert_exporter": "python",
   "pygments_lexer": "ipython3",
   "version": "3.9.12"
  }
 },
 "nbformat": 4,
 "nbformat_minor": 5
}
