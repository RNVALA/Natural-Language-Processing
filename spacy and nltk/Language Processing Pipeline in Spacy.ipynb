{
 "cells": [
  {
   "cell_type": "code",
   "execution_count": 1,
   "id": "eb5a01ae",
   "metadata": {},
   "outputs": [],
   "source": [
    "#after tokenizer there is this pipeline\n",
    "#the compnent may be tagger, parser ner etc after tokenizer "
   ]
  },
  {
   "cell_type": "code",
   "execution_count": 2,
   "id": "ba57e2c1",
   "metadata": {},
   "outputs": [],
   "source": [
    "import spacy"
   ]
  },
  {
   "cell_type": "code",
   "execution_count": 3,
   "id": "2b94e4b0",
   "metadata": {},
   "outputs": [],
   "source": [
    "nlp=spacy.blank(\"en\")\n",
    "doc=nlp(\"Rohit sharma is india's present captain. virat kohli and mahendra singh dhoni are india's former captain  \")"
   ]
  },
  {
   "cell_type": "code",
   "execution_count": 4,
   "id": "d70a31e2",
   "metadata": {},
   "outputs": [
    {
     "name": "stdout",
     "output_type": "stream",
     "text": [
      "Rohit |   |  \n",
      "sharma |   |  \n",
      "is |   |  \n",
      "india |   |  \n",
      "'s |   |  \n",
      "present |   |  \n",
      "captain |   |  \n",
      ". |   |  \n",
      "virat |   |  \n",
      "kohli |   |  \n",
      "and |   |  \n",
      "mahendra |   |  \n",
      "singh |   |  \n",
      "dhoni |   |  \n",
      "are |   |  \n",
      "india |   |  \n",
      "'s |   |  \n",
      "former |   |  \n",
      "captain |   |  \n",
      "  |   |  \n"
     ]
    }
   ],
   "source": [
    "for token in doc:\n",
    "    print(token,\"|\",token.pos_,\" | \",token.lemma_)\n",
    "    #its blank pipeline it doesnt give you the part of speech or lemma"
   ]
  },
  {
   "cell_type": "code",
   "execution_count": 5,
   "id": "ea953a74",
   "metadata": {},
   "outputs": [
    {
     "data": {
      "text/plain": [
       "[]"
      ]
     },
     "execution_count": 5,
     "metadata": {},
     "output_type": "execute_result"
    }
   ],
   "source": [
    "nlp.pipe_names"
   ]
  },
  {
   "cell_type": "code",
   "execution_count": 6,
   "id": "60457371",
   "metadata": {},
   "outputs": [],
   "source": [
    "nlp=spacy.load(\"en_core_web_sm\")"
   ]
  },
  {
   "cell_type": "code",
   "execution_count": 7,
   "id": "5da1d7a7",
   "metadata": {},
   "outputs": [
    {
     "data": {
      "text/plain": [
       "[('tok2vec', <spacy.pipeline.tok2vec.Tok2Vec at 0x2671ea2d040>),\n",
       " ('tagger', <spacy.pipeline.tagger.Tagger at 0x2671ebc52e0>),\n",
       " ('parser', <spacy.pipeline.dep_parser.DependencyParser at 0x2671ea3b190>),\n",
       " ('attribute_ruler',\n",
       "  <spacy.pipeline.attributeruler.AttributeRuler at 0x2671ebd3840>),\n",
       " ('lemmatizer', <spacy.lang.en.lemmatizer.EnglishLemmatizer at 0x2671ebce4c0>),\n",
       " ('ner', <spacy.pipeline.ner.EntityRecognizer at 0x2671ea3b2e0>)]"
      ]
     },
     "execution_count": 7,
     "metadata": {},
     "output_type": "execute_result"
    }
   ],
   "source": [
    "nlp.pipeline\n"
   ]
  },
  {
   "cell_type": "code",
   "execution_count": 8,
   "id": "af36dc4c",
   "metadata": {},
   "outputs": [
    {
     "name": "stdout",
     "output_type": "stream",
     "text": [
      "India\n",
      "India | PROPN | India\n",
      "'s\n",
      "'s | PART | 's\n",
      "capital\n",
      "capital | NOUN | capital\n",
      "is\n",
      "is | AUX | be\n",
      "delhi\n",
      "delhi | ADJ | delhi\n",
      "and\n",
      "and | CCONJ | and\n",
      "Gujarat\n",
      "Gujarat | PROPN | Gujarat\n",
      "'s\n",
      "'s | PART | 's\n",
      "capital\n",
      "capital | NOUN | capital\n",
      "is\n",
      "is | AUX | be\n",
      "Gandhinagar\n",
      "Gandhinagar | PROPN | Gandhinagar\n"
     ]
    }
   ],
   "source": [
    "doc=nlp(\"India's capital is delhi and Gujarat's capital is Gandhinagar\")\n",
    "for token in doc.sents:\n",
    "    for word in token:\n",
    "        print(word)\n",
    "        print(word ,\"|\", word.pos_,\"|\",word.lemma_)"
   ]
  },
  {
   "cell_type": "code",
   "execution_count": 9,
   "id": "7fc01968",
   "metadata": {},
   "outputs": [
    {
     "name": "stdout",
     "output_type": "stream",
     "text": [
      "Tesla Inc | ORG | Companies, agencies, institutions, etc.\n",
      "$45 billion | MONEY | Monetary values, including unit\n"
     ]
    }
   ],
   "source": [
    "doc=nlp(\"Tesla Inc is going to acquire twitter for $45 billion\")\n",
    "for ent in doc.ents:\n",
    "    print(ent.text,\"|\",ent.label_,\"|\",spacy.explain(ent.label_))\n"
   ]
  },
  {
   "cell_type": "code",
   "execution_count": 10,
   "id": "18dd7f62",
   "metadata": {},
   "outputs": [
    {
     "data": {
      "text/html": [
       "<span class=\"tex2jax_ignore\"><div class=\"entities\" style=\"line-height: 2.5; direction: ltr\">\n",
       "<mark class=\"entity\" style=\"background: #7aecec; padding: 0.45em 0.6em; margin: 0 0.25em; line-height: 1; border-radius: 0.35em;\">\n",
       "    Tesla Inc\n",
       "    <span style=\"font-size: 0.8em; font-weight: bold; line-height: 1; border-radius: 0.35em; vertical-align: middle; margin-left: 0.5rem\">ORG</span>\n",
       "</mark>\n",
       " is going to acquire twitter for \n",
       "<mark class=\"entity\" style=\"background: #e4e7d2; padding: 0.45em 0.6em; margin: 0 0.25em; line-height: 1; border-radius: 0.35em;\">\n",
       "    $45 billion\n",
       "    <span style=\"font-size: 0.8em; font-weight: bold; line-height: 1; border-radius: 0.35em; vertical-align: middle; margin-left: 0.5rem\">MONEY</span>\n",
       "</mark>\n",
       "</div></span>"
      ],
      "text/plain": [
       "<IPython.core.display.HTML object>"
      ]
     },
     "metadata": {},
     "output_type": "display_data"
    }
   ],
   "source": [
    "from spacy import displacy\n",
    "displacy.render(doc,style=\"ent\")\n",
    "#ner=name entity recognizer\n"
   ]
  },
  {
   "cell_type": "code",
   "execution_count": null,
   "id": "51935641",
   "metadata": {},
   "outputs": [],
   "source": []
  }
 ],
 "metadata": {
  "kernelspec": {
   "display_name": "Python 3 (ipykernel)",
   "language": "python",
   "name": "python3"
  },
  "language_info": {
   "codemirror_mode": {
    "name": "ipython",
    "version": 3
   },
   "file_extension": ".py",
   "mimetype": "text/x-python",
   "name": "python",
   "nbconvert_exporter": "python",
   "pygments_lexer": "ipython3",
   "version": "3.9.12"
  }
 },
 "nbformat": 4,
 "nbformat_minor": 5
}
