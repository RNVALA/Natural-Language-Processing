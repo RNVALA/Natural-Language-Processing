{
 "cells": [
  {
   "cell_type": "code",
   "execution_count": 1,
   "id": "b56713e0",
   "metadata": {},
   "outputs": [],
   "source": [
    " #taking-->talk   eating-->eat  adjustable-->adjust use fixed rules such as remove able,ing etc. to derive a  base word its called stemming\n",
    " #ate---->eat   here you need knowledge of a language(linguistic knowledge) to derive a base word  so, here eat is lema of ate so this process is know as lemmatization\n"
   ]
  },
  {
   "cell_type": "code",
   "execution_count": 2,
   "id": "80069631",
   "metadata": {},
   "outputs": [],
   "source": [
    "#as example ability---->abil if you use stemming if you use lemmatization then ability---->ability\n",
    "#stemming we will use nltk bcz spacy doesn't support stemmingwhile nltk support both\n",
    "import nltk\n",
    "import spacy"
   ]
  },
  {
   "cell_type": "code",
   "execution_count": 3,
   "id": "c88eaa78",
   "metadata": {},
   "outputs": [],
   "source": [
    "from nltk.stem import PorterStemmer\n",
    "stemmer=PorterStemmer()\n"
   ]
  },
  {
   "cell_type": "code",
   "execution_count": 4,
   "id": "5484389b",
   "metadata": {},
   "outputs": [
    {
     "name": "stdout",
     "output_type": "stream",
     "text": [
      "eating | eat\n",
      "eats | eat\n",
      "eat | eat\n",
      "adjustable | adjust\n",
      "rafting | raft\n",
      "ability | abil\n",
      "meeting | meet\n"
     ]
    }
   ],
   "source": [
    "words=['eating','eats','eat','adjustable','rafting','ability','meeting']\n",
    "for word in words:\n",
    "    print((word),\"|\",stemmer.stem(word))\n",
    "    #stemmer doesnt have knowledge of language thats why ate--->ate only in this there are fixed rules . \n",
    "    #and in lammatization there is knowledge of the word"
   ]
  },
  {
   "cell_type": "code",
   "execution_count": 6,
   "id": "e2dd6522",
   "metadata": {},
   "outputs": [
    {
     "name": "stdout",
     "output_type": "stream",
     "text": [
      "eating | eating | 12092082220177030354\n",
      "eats | eat | 9837207709914848172\n",
      "eat | eat | 9837207709914848172\n",
      "adjustable | adjustable | 6033511944150694480\n",
      "rafting | raft | 7154368781129989833\n",
      "ability | ability | 11565809527369121409\n",
      "meeting | meeting | 14798207169164081740\n",
      "better | well | 4525988469032889948\n"
     ]
    }
   ],
   "source": [
    "#lammatization\n",
    "nlp=spacy.load(\"en_core_web_sm\")\n",
    "doc=nlp(\"eating eats eat adjustable rafting ability meeting better\")\n",
    "for token in doc:\n",
    "    print(token,\"|\",token.lemma_,\"|\",token.lemma)\n"
   ]
  },
  {
   "cell_type": "code",
   "execution_count": 7,
   "id": "5578f7ae",
   "metadata": {},
   "outputs": [
    {
     "data": {
      "text/plain": [
       "['tok2vec', 'tagger', 'parser', 'attribute_ruler', 'lemmatizer', 'ner']"
      ]
     },
     "execution_count": 7,
     "metadata": {},
     "output_type": "execute_result"
    }
   ],
   "source": [
    "nlp.pipe_names"
   ]
  },
  {
   "cell_type": "code",
   "execution_count": 8,
   "id": "1eb74230",
   "metadata": {},
   "outputs": [
    {
     "name": "stdout",
     "output_type": "stream",
     "text": [
      "Bro | Brother\n",
      ", | ,\n",
      "you | you\n",
      "wanna | wanna\n",
      "go | go\n",
      "? | ?\n",
      "Brah | Brother\n",
      ", | ,\n",
      "do | do\n",
      "n't | not\n",
      "say | say\n",
      "no | no\n",
      "! | !\n",
      "I | I\n",
      "am | be\n",
      "exhausted | exhaust\n"
     ]
    }
   ],
   "source": [
    "#adding the custom rule\n",
    "ar=nlp.get_pipe('attribute_ruler')\n",
    "ar.add([[{\"TEXT\":\"Bro\"}],[{\"TEXT\":\"Brah\"}]],{\"LEMMA\":\"Brother\"})\n",
    "doc=nlp(\"Bro, you wanna go? Brah, don't say no! I am exhausted\")\n",
    "for token in doc:\n",
    "    print(token.text,\"|\",token.lemma_)"
   ]
  },
  {
   "cell_type": "code",
   "execution_count": null,
   "id": "66c442af",
   "metadata": {},
   "outputs": [],
   "source": []
  }
 ],
 "metadata": {
  "kernelspec": {
   "display_name": "Python 3 (ipykernel)",
   "language": "python",
   "name": "python3"
  },
  "language_info": {
   "codemirror_mode": {
    "name": "ipython",
    "version": 3
   },
   "file_extension": ".py",
   "mimetype": "text/x-python",
   "name": "python",
   "nbconvert_exporter": "python",
   "pygments_lexer": "ipython3",
   "version": "3.9.12"
  }
 },
 "nbformat": 4,
 "nbformat_minor": 5
}
