{
 "cells": [
  {
   "cell_type": "code",
   "execution_count": 1,
   "id": "2efc5bc3",
   "metadata": {},
   "outputs": [],
   "source": [
    "#Dhaval ate fruits\n",
    "#Dhaval noun\n",
    "#ate verb\n",
    "#fruits Noun\n",
    "#Adjective describe the noun Adds meaning to it example many fruits\n",
    "#I bought red tesla red is adjective\n",
    "#adverb  describe verb \n",
    "#example I slowly ate many fruits here slowly is adverb"
   ]
  },
  {
   "cell_type": "code",
   "execution_count": 2,
   "id": "42889304",
   "metadata": {},
   "outputs": [],
   "source": [
    "#interjection  wow! Dr.strange made 265 million in first day !wow is interjection\n",
    "#conjuction connects words or groups of words\n",
    "#I want to eat pizza, but I want to be healthy\n",
    "#preposition link a noun to another word\n",
    "#i parked my car in the garage in this in is  a preposition\n",
    "#thor is on the bus here on is the preposition\n",
    "#thor is at the bus stop here at is the preposition\n",
    "#after,against,along,around,because of,before,behind,below,beneath,besides,between\n"
   ]
  },
  {
   "cell_type": "code",
   "execution_count": 3,
   "id": "b5b253c4",
   "metadata": {},
   "outputs": [],
   "source": [
    "import spacy"
   ]
  },
  {
   "cell_type": "code",
   "execution_count": null,
   "id": "e86e1cae",
   "metadata": {},
   "outputs": [],
   "source": []
  },
  {
   "cell_type": "code",
   "execution_count": 5,
   "id": "0c442b66",
   "metadata": {},
   "outputs": [],
   "source": [
    "nlp=spacy.load(\"en_core_web_sm\")"
   ]
  },
  {
   "cell_type": "code",
   "execution_count": 9,
   "id": "2ae67fa1",
   "metadata": {},
   "outputs": [
    {
     "data": {
      "text/plain": [
       "['tok2vec', 'tagger', 'parser', 'attribute_ruler', 'lemmatizer', 'ner']"
      ]
     },
     "execution_count": 9,
     "metadata": {},
     "output_type": "execute_result"
    }
   ],
   "source": [
    "nlp.pipe_names"
   ]
  },
  {
   "cell_type": "code",
   "execution_count": 10,
   "id": "82a73be6",
   "metadata": {},
   "outputs": [
    {
     "name": "stdout",
     "output_type": "stream",
     "text": [
      "Elon | PROPN | proper noun | NNP | noun, proper singular\n",
      "flew | VERB | verb | VBD | verb, past tense\n",
      "to | ADP | adposition | IN | conjunction, subordinating or preposition\n",
      "mars | NOUN | noun | NNS | noun, plural\n",
      "yesterday | NOUN | noun | NN | noun, singular or mass\n",
      ". | PUNCT | punctuation | . | punctuation mark, sentence closer\n",
      "He | PRON | pronoun | PRP | pronoun, personal\n",
      "carried | VERB | verb | VBD | verb, past tense\n",
      "biryani | NOUN | noun | NN | noun, singular or mass\n",
      "masala | NOUN | noun | NN | noun, singular or mass\n",
      "with | ADP | adposition | IN | conjunction, subordinating or preposition\n",
      "him | PRON | pronoun | PRP | pronoun, personal\n"
     ]
    }
   ],
   "source": [
    "doc=nlp(\"Elon flew to mars yesterday. He carried biryani masala with him\")\n",
    "for token in doc:\n",
    "    print(token, \"|\",token.pos_,\"|\",spacy.explain(token.pos_),\"|\",token.tag_,\"|\",spacy.explain(token.tag_))"
   ]
  },
  {
   "cell_type": "code",
   "execution_count": 11,
   "id": "0c36296b",
   "metadata": {},
   "outputs": [
    {
     "name": "stdout",
     "output_type": "stream",
     "text": [
      "quits | VERB | verb | VBZ | verb, 3rd person singular present\n"
     ]
    }
   ],
   "source": [
    "doc=nlp(\"He quits the job\")\n",
    "print(doc[1],\"|\",doc[1].pos_,\"|\",spacy.explain(doc[1].pos_),\"|\",doc[1].tag_,\"|\",spacy.explain(doc[1].tag_))"
   ]
  },
  {
   "cell_type": "code",
   "execution_count": 13,
   "id": "a31f5e1b",
   "metadata": {},
   "outputs": [
    {
     "name": "stdout",
     "output_type": "stream",
     "text": [
      "quit | VERB | verb | VBD | verb, past tense\n"
     ]
    }
   ],
   "source": [
    "doc=nlp(\"He quit the job\")\n",
    "print(doc[1],\"|\",doc[1].pos_,\"|\",spacy.explain(doc[1].pos_),\"|\",doc[1].tag_,\"|\",spacy.explain(doc[1].tag_))\n",
    "#spacy is the intelligence or smart enough here it recognize that the quits is a present tense and quit is a past tense\n"
   ]
  },
  {
   "cell_type": "code",
   "execution_count": 20,
   "id": "27891195",
   "metadata": {},
   "outputs": [
    {
     "name": "stdout",
     "output_type": "stream",
     "text": [
      "[Nortje, to, Umesh, Yadav, out, Caught&Bowled, Raw, pace, into, the, wicket, at, the, body, of, Umesh, No, way, he, could]\n"
     ]
    }
   ],
   "source": [
    "cric_text=\"Nortje to Umesh Yadav, out Caught&Bowled!! Raw pace, into the wicket, at the body of Umesh. No way he could have avoided that ball. Umesh swung across the line, sliced it to the left of the bowler who took an easy catch. Russell should not have let Umesh face this ball. He should have settled for one last ball and taken the onus of facing Nortje. Umesh Yadav c and b Nortje 3(5)\"\n",
    "doc=nlp(cric_text)\n",
    "filtered_token=[]\n",
    "for token in doc:\n",
    "    if token.pos_ not in[\"SPACE\",\"X\",\"PUNCT\"]:\n",
    "        filtered_token.append(token)\n",
    "       # print(token,\"|\",token.pos_,\"|\",spacy.explain(token.pos_))\n",
    "print(filtered_token[:20])\n",
    "        "
   ]
  },
  {
   "cell_type": "code",
   "execution_count": 22,
   "id": "ab18f0ae",
   "metadata": {},
   "outputs": [
    {
     "data": {
      "text/plain": [
       "{96: 12,\n",
       " 85: 9,\n",
       " 97: 12,\n",
       " 86: 1,\n",
       " 100: 10,\n",
       " 84: 3,\n",
       " 92: 13,\n",
       " 90: 10,\n",
       " 95: 4,\n",
       " 87: 6,\n",
       " 94: 1,\n",
       " 93: 2,\n",
       " 89: 2}"
      ]
     },
     "execution_count": 22,
     "metadata": {},
     "output_type": "execute_result"
    }
   ],
   "source": [
    "count=doc.count_by(spacy.attrs.POS)\n",
    "count"
   ]
  },
  {
   "cell_type": "code",
   "execution_count": 24,
   "id": "c58fb344",
   "metadata": {},
   "outputs": [
    {
     "data": {
      "text/plain": [
       "'PROPN'"
      ]
     },
     "execution_count": 24,
     "metadata": {},
     "output_type": "execute_result"
    }
   ],
   "source": [
    "doc.vocab[96].text\n",
    "#it says that there are 12 proper noun"
   ]
  },
  {
   "cell_type": "code",
   "execution_count": 25,
   "id": "ddc05ee0",
   "metadata": {},
   "outputs": [
    {
     "name": "stdout",
     "output_type": "stream",
     "text": [
      "PROPN | 12\n",
      "ADP | 9\n",
      "PUNCT | 12\n",
      "ADV | 1\n",
      "VERB | 10\n",
      "ADJ | 3\n",
      "NOUN | 13\n",
      "DET | 10\n",
      "PRON | 4\n",
      "AUX | 6\n",
      "PART | 1\n",
      "NUM | 2\n",
      "CCONJ | 2\n"
     ]
    }
   ],
   "source": [
    "for k,v in count.items():\n",
    "    print(doc.vocab[k].text,\"|\",v)"
   ]
  },
  {
   "cell_type": "code",
   "execution_count": null,
   "id": "2fa855e6",
   "metadata": {},
   "outputs": [],
   "source": []
  }
 ],
 "metadata": {
  "kernelspec": {
   "display_name": "Python 3 (ipykernel)",
   "language": "python",
   "name": "python3"
  },
  "language_info": {
   "codemirror_mode": {
    "name": "ipython",
    "version": 3
   },
   "file_extension": ".py",
   "mimetype": "text/x-python",
   "name": "python",
   "nbconvert_exporter": "python",
   "pygments_lexer": "ipython3",
   "version": "3.9.12"
  }
 },
 "nbformat": 4,
 "nbformat_minor": 5
}
