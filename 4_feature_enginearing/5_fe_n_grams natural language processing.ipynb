{
 "cells": [
  {
   "cell_type": "code",
   "execution_count": 1,
   "id": "f2ebc960",
   "metadata": {},
   "outputs": [],
   "source": [
    "#dhaval sat on a sofa and ate a samosa\n",
    "#bow\n",
    "#Dhaval  sat  on   a  sofa  and  ate...\n",
    "\n",
    "#bi-gram\n",
    "#Dhaval sat   sat on   on a    a sofa   sofa and   and ate\n",
    "\n",
    "#tri-gram\n",
    "#Dhaval sat on       sat on a       on a sofa      a sofa and ......\n",
    "#ans soon\n"
   ]
  },
  {
   "cell_type": "code",
   "execution_count": 2,
   "id": "dc7cc2d6",
   "metadata": {},
   "outputs": [],
   "source": [
    "#bag of n is a special case of bag of ngram where n is 1\n",
    "#limitation of nggram model\n",
    "#as n increased, dimensionality sparsity increases\n",
    "#2.doensnt address out of vocabulary(oov) problem\n"
   ]
  },
  {
   "cell_type": "code",
   "execution_count": 3,
   "id": "eb288baa",
   "metadata": {},
   "outputs": [
    {
     "data": {
      "text/plain": [
       "{'thor': 5, 'hathodwala': 1, 'is': 2, 'looking': 4, 'for': 0, 'job': 3}"
      ]
     },
     "execution_count": 3,
     "metadata": {},
     "output_type": "execute_result"
    }
   ],
   "source": [
    "from sklearn.feature_extraction.text import CountVectorizer\n",
    "v=CountVectorizer()\n",
    "v.fit([\"Thor Hathodwala is looking for a job\"])\n",
    "v.vocabulary_"
   ]
  },
  {
   "cell_type": "code",
   "execution_count": 4,
   "id": "4d1c872b",
   "metadata": {},
   "outputs": [
    {
     "data": {
      "text/plain": [
       "{'thor hathodwala': 4,\n",
       " 'hathodwala is': 1,\n",
       " 'is looking': 2,\n",
       " 'looking for': 3,\n",
       " 'for job': 0}"
      ]
     },
     "execution_count": 4,
     "metadata": {},
     "output_type": "execute_result"
    }
   ],
   "source": [
    "v=CountVectorizer(ngram_range=(2,2))\n",
    "v.fit([\"Thor Hathodwala is looking for a job\"])\n",
    "v.vocabulary_"
   ]
  },
  {
   "cell_type": "code",
   "execution_count": 5,
   "id": "7872ebcf",
   "metadata": {},
   "outputs": [
    {
     "data": {
      "text/plain": [
       "{'thor': 12,\n",
       " 'hathodwala': 2,\n",
       " 'is': 5,\n",
       " 'looking': 9,\n",
       " 'for': 0,\n",
       " 'job': 8,\n",
       " 'thor hathodwala': 13,\n",
       " 'hathodwala is': 3,\n",
       " 'is looking': 6,\n",
       " 'looking for': 10,\n",
       " 'for job': 1,\n",
       " 'thor hathodwala is': 14,\n",
       " 'hathodwala is looking': 4,\n",
       " 'is looking for': 7,\n",
       " 'looking for job': 11}"
      ]
     },
     "execution_count": 5,
     "metadata": {},
     "output_type": "execute_result"
    }
   ],
   "source": [
    "v=CountVectorizer(ngram_range=(1,3))\n",
    "v.fit([\"Thor Hathodwala is looking for a job\"])\n",
    "v.vocabulary_\n",
    "#it will generate single token, bigram and trigram"
   ]
  },
  {
   "cell_type": "code",
   "execution_count": 6,
   "id": "d2ce8da0",
   "metadata": {},
   "outputs": [],
   "source": [
    "corpus=[\n",
    "    \"Thor ate pizza\",\n",
    "    \"Loki is tail\",\n",
    "    \"Loki is eating pizza\"\n",
    "]"
   ]
  },
  {
   "cell_type": "code",
   "execution_count": 7,
   "id": "ca97d492",
   "metadata": {},
   "outputs": [
    {
     "data": {
      "text/plain": [
       "'thore eat pizza'"
      ]
     },
     "execution_count": 7,
     "metadata": {},
     "output_type": "execute_result"
    }
   ],
   "source": [
    "import spacy\n",
    "nlp=spacy.load(\"en_core_web_sm\")\n",
    "def preprocessing(text):\n",
    "    doc=nlp(text)\n",
    "    filtered_token=[]\n",
    "    for token in doc:\n",
    "        if token.is_stop or token.is_punct:\n",
    "            continue\n",
    "        filtered_token.append(token.lemma_)\n",
    "    return \" \".join(filtered_token)\n",
    "preprocessing(\"Thore ate pizza.,\")\n",
    "    "
   ]
  },
  {
   "cell_type": "code",
   "execution_count": 8,
   "id": "7569cbbe",
   "metadata": {},
   "outputs": [
    {
     "data": {
      "text/plain": [
       "['Thor eat pizza', 'Loki tail', 'Loki eat pizza']"
      ]
     },
     "execution_count": 8,
     "metadata": {},
     "output_type": "execute_result"
    }
   ],
   "source": [
    "corpus_processed=[preprocessing(text) for text in corpus]\n",
    "corpus_processed"
   ]
  },
  {
   "cell_type": "code",
   "execution_count": 9,
   "id": "27c26b8b",
   "metadata": {},
   "outputs": [
    {
     "data": {
      "text/plain": [
       "{'thor': 7,\n",
       " 'eat': 0,\n",
       " 'pizza': 5,\n",
       " 'thor eat': 8,\n",
       " 'eat pizza': 1,\n",
       " 'loki': 2,\n",
       " 'tail': 6,\n",
       " 'loki tail': 4,\n",
       " 'loki eat': 3}"
      ]
     },
     "execution_count": 9,
     "metadata": {},
     "output_type": "execute_result"
    }
   ],
   "source": [
    "v=CountVectorizer(ngram_range=(1,2))\n",
    "v.fit(corpus_processed)\n",
    "v.vocabulary_"
   ]
  },
  {
   "cell_type": "code",
   "execution_count": 10,
   "id": "d010aaec",
   "metadata": {},
   "outputs": [
    {
     "data": {
      "text/plain": [
       "array([[1, 1, 0, 0, 0, 1, 0, 1, 1]], dtype=int64)"
      ]
     },
     "execution_count": 10,
     "metadata": {},
     "output_type": "execute_result"
    }
   ],
   "source": [
    "v.transform([\"thor eat pizza\"]).toarray()"
   ]
  },
  {
   "cell_type": "code",
   "execution_count": 11,
   "id": "6992d5ec",
   "metadata": {},
   "outputs": [
    {
     "data": {
      "text/plain": [
       "array([[0, 0, 0, 0, 0, 1, 0, 0, 0]], dtype=int64)"
      ]
     },
     "execution_count": 11,
     "metadata": {},
     "output_type": "execute_result"
    }
   ],
   "source": [
    "v.transform(['meet loves pizza']).toarray()"
   ]
  },
  {
   "cell_type": "code",
   "execution_count": 12,
   "id": "0aa6e303",
   "metadata": {},
   "outputs": [
    {
     "name": "stdout",
     "output_type": "stream",
     "text": [
      "(12695, 2)\n"
     ]
    },
    {
     "data": {
      "text/html": [
       "<div>\n",
       "<style scoped>\n",
       "    .dataframe tbody tr th:only-of-type {\n",
       "        vertical-align: middle;\n",
       "    }\n",
       "\n",
       "    .dataframe tbody tr th {\n",
       "        vertical-align: top;\n",
       "    }\n",
       "\n",
       "    .dataframe thead th {\n",
       "        text-align: right;\n",
       "    }\n",
       "</style>\n",
       "<table border=\"1\" class=\"dataframe\">\n",
       "  <thead>\n",
       "    <tr style=\"text-align: right;\">\n",
       "      <th></th>\n",
       "      <th>text</th>\n",
       "      <th>category</th>\n",
       "    </tr>\n",
       "  </thead>\n",
       "  <tbody>\n",
       "    <tr>\n",
       "      <th>0</th>\n",
       "      <td>Watching Schrödinger's Cat Die University of C...</td>\n",
       "      <td>SCIENCE</td>\n",
       "    </tr>\n",
       "    <tr>\n",
       "      <th>1</th>\n",
       "      <td>WATCH: Freaky Vortex Opens Up In Flooded Lake</td>\n",
       "      <td>SCIENCE</td>\n",
       "    </tr>\n",
       "    <tr>\n",
       "      <th>2</th>\n",
       "      <td>Entrepreneurs Today Don't Need a Big Budget to...</td>\n",
       "      <td>BUSINESS</td>\n",
       "    </tr>\n",
       "    <tr>\n",
       "      <th>3</th>\n",
       "      <td>These Roads Could Recharge Your Electric Car A...</td>\n",
       "      <td>BUSINESS</td>\n",
       "    </tr>\n",
       "    <tr>\n",
       "      <th>4</th>\n",
       "      <td>Civilian 'Guard' Fires Gun While 'Protecting' ...</td>\n",
       "      <td>CRIME</td>\n",
       "    </tr>\n",
       "  </tbody>\n",
       "</table>\n",
       "</div>"
      ],
      "text/plain": [
       "                                                text  category\n",
       "0  Watching Schrödinger's Cat Die University of C...   SCIENCE\n",
       "1     WATCH: Freaky Vortex Opens Up In Flooded Lake    SCIENCE\n",
       "2  Entrepreneurs Today Don't Need a Big Budget to...  BUSINESS\n",
       "3  These Roads Could Recharge Your Electric Car A...  BUSINESS\n",
       "4  Civilian 'Guard' Fires Gun While 'Protecting' ...     CRIME"
      ]
     },
     "execution_count": 12,
     "metadata": {},
     "output_type": "execute_result"
    }
   ],
   "source": [
    "import pandas as pd\n",
    "df=pd.read_json(\"news_dataset.json\")\n",
    "print(df.shape)\n",
    "df.head()"
   ]
  },
  {
   "cell_type": "code",
   "execution_count": 13,
   "id": "7058cf4f",
   "metadata": {},
   "outputs": [
    {
     "data": {
      "text/plain": [
       "BUSINESS    4254\n",
       "SPORTS      4167\n",
       "CRIME       2893\n",
       "SCIENCE     1381\n",
       "Name: category, dtype: int64"
      ]
     },
     "execution_count": 13,
     "metadata": {},
     "output_type": "execute_result"
    }
   ],
   "source": [
    "df.category.value_counts()"
   ]
  },
  {
   "cell_type": "code",
   "execution_count": null,
   "id": "8828bc55",
   "metadata": {},
   "outputs": [],
   "source": []
  },
  {
   "cell_type": "code",
   "execution_count": 14,
   "id": "b4047eaf",
   "metadata": {},
   "outputs": [
    {
     "data": {
      "text/html": [
       "<div>\n",
       "<style scoped>\n",
       "    .dataframe tbody tr th:only-of-type {\n",
       "        vertical-align: middle;\n",
       "    }\n",
       "\n",
       "    .dataframe tbody tr th {\n",
       "        vertical-align: top;\n",
       "    }\n",
       "\n",
       "    .dataframe thead th {\n",
       "        text-align: right;\n",
       "    }\n",
       "</style>\n",
       "<table border=\"1\" class=\"dataframe\">\n",
       "  <thead>\n",
       "    <tr style=\"text-align: right;\">\n",
       "      <th></th>\n",
       "      <th>text</th>\n",
       "      <th>category</th>\n",
       "    </tr>\n",
       "  </thead>\n",
       "  <tbody>\n",
       "    <tr>\n",
       "      <th>753</th>\n",
       "      <td>Iowa’s 60 Million Laying Hens Aren’t Being Mon...</td>\n",
       "      <td>BUSINESS</td>\n",
       "    </tr>\n",
       "    <tr>\n",
       "      <th>4494</th>\n",
       "      <td>Dollar Charges To 14-Year High, Bond Tantrum I...</td>\n",
       "      <td>BUSINESS</td>\n",
       "    </tr>\n",
       "    <tr>\n",
       "      <th>7432</th>\n",
       "      <td>GoDaddy Pulls The Plug On Neo-Nazi Website The...</td>\n",
       "      <td>BUSINESS</td>\n",
       "    </tr>\n",
       "    <tr>\n",
       "      <th>3766</th>\n",
       "      <td>Women in Business Q&amp;A: Darline Jean, COO, Puls...</td>\n",
       "      <td>BUSINESS</td>\n",
       "    </tr>\n",
       "    <tr>\n",
       "      <th>9189</th>\n",
       "      <td>Rushion McDonald: Architect Behind the Steve H...</td>\n",
       "      <td>BUSINESS</td>\n",
       "    </tr>\n",
       "    <tr>\n",
       "      <th>...</th>\n",
       "      <td>...</td>\n",
       "      <td>...</td>\n",
       "    </tr>\n",
       "    <tr>\n",
       "      <th>2470</th>\n",
       "      <td>Tim Cook Sends Memo To Reassure Apple Employee...</td>\n",
       "      <td>BUSINESS</td>\n",
       "    </tr>\n",
       "    <tr>\n",
       "      <th>5809</th>\n",
       "      <td>Like a Bad Neighbor, Chevron Is There The fede...</td>\n",
       "      <td>BUSINESS</td>\n",
       "    </tr>\n",
       "    <tr>\n",
       "      <th>6226</th>\n",
       "      <td>Asian Americans versus Asian Americans Asian i...</td>\n",
       "      <td>BUSINESS</td>\n",
       "    </tr>\n",
       "    <tr>\n",
       "      <th>11899</th>\n",
       "      <td>Another Way Companies Make It Harder For New M...</td>\n",
       "      <td>BUSINESS</td>\n",
       "    </tr>\n",
       "    <tr>\n",
       "      <th>169</th>\n",
       "      <td>5 Reasons You Will Fail At Working From Home W...</td>\n",
       "      <td>BUSINESS</td>\n",
       "    </tr>\n",
       "  </tbody>\n",
       "</table>\n",
       "<p>1381 rows × 2 columns</p>\n",
       "</div>"
      ],
      "text/plain": [
       "                                                    text  category\n",
       "753    Iowa’s 60 Million Laying Hens Aren’t Being Mon...  BUSINESS\n",
       "4494   Dollar Charges To 14-Year High, Bond Tantrum I...  BUSINESS\n",
       "7432   GoDaddy Pulls The Plug On Neo-Nazi Website The...  BUSINESS\n",
       "3766   Women in Business Q&A: Darline Jean, COO, Puls...  BUSINESS\n",
       "9189   Rushion McDonald: Architect Behind the Steve H...  BUSINESS\n",
       "...                                                  ...       ...\n",
       "2470   Tim Cook Sends Memo To Reassure Apple Employee...  BUSINESS\n",
       "5809   Like a Bad Neighbor, Chevron Is There The fede...  BUSINESS\n",
       "6226   Asian Americans versus Asian Americans Asian i...  BUSINESS\n",
       "11899  Another Way Companies Make It Harder For New M...  BUSINESS\n",
       "169    5 Reasons You Will Fail At Working From Home W...  BUSINESS\n",
       "\n",
       "[1381 rows x 2 columns]"
      ]
     },
     "execution_count": 14,
     "metadata": {},
     "output_type": "execute_result"
    }
   ],
   "source": [
    "#undersampling\n",
    "min_samples=1381\n",
    "df_business=df[df.category=='BUSINESS'].sample(min_samples,random_state=37)\n",
    "df_business"
   ]
  },
  {
   "cell_type": "code",
   "execution_count": 15,
   "id": "a3217316",
   "metadata": {},
   "outputs": [],
   "source": [
    "df_sports=df[df.category=='SPORTS'].sample(min_samples,random_state=37)\n",
    "df_crime=df[df.category=='CRIME'].sample(min_samples,random_state=37)\n",
    "df_science=df[df.category=='SCIENCE'].sample(min_samples,random_state=37)"
   ]
  },
  {
   "cell_type": "code",
   "execution_count": 16,
   "id": "407b51f3",
   "metadata": {},
   "outputs": [
    {
     "data": {
      "text/html": [
       "<div>\n",
       "<style scoped>\n",
       "    .dataframe tbody tr th:only-of-type {\n",
       "        vertical-align: middle;\n",
       "    }\n",
       "\n",
       "    .dataframe tbody tr th {\n",
       "        vertical-align: top;\n",
       "    }\n",
       "\n",
       "    .dataframe thead th {\n",
       "        text-align: right;\n",
       "    }\n",
       "</style>\n",
       "<table border=\"1\" class=\"dataframe\">\n",
       "  <thead>\n",
       "    <tr style=\"text-align: right;\">\n",
       "      <th></th>\n",
       "      <th>text</th>\n",
       "      <th>category</th>\n",
       "    </tr>\n",
       "  </thead>\n",
       "  <tbody>\n",
       "    <tr>\n",
       "      <th>753</th>\n",
       "      <td>Iowa’s 60 Million Laying Hens Aren’t Being Mon...</td>\n",
       "      <td>BUSINESS</td>\n",
       "    </tr>\n",
       "    <tr>\n",
       "      <th>4494</th>\n",
       "      <td>Dollar Charges To 14-Year High, Bond Tantrum I...</td>\n",
       "      <td>BUSINESS</td>\n",
       "    </tr>\n",
       "    <tr>\n",
       "      <th>7432</th>\n",
       "      <td>GoDaddy Pulls The Plug On Neo-Nazi Website The...</td>\n",
       "      <td>BUSINESS</td>\n",
       "    </tr>\n",
       "    <tr>\n",
       "      <th>3766</th>\n",
       "      <td>Women in Business Q&amp;A: Darline Jean, COO, Puls...</td>\n",
       "      <td>BUSINESS</td>\n",
       "    </tr>\n",
       "    <tr>\n",
       "      <th>9189</th>\n",
       "      <td>Rushion McDonald: Architect Behind the Steve H...</td>\n",
       "      <td>BUSINESS</td>\n",
       "    </tr>\n",
       "    <tr>\n",
       "      <th>...</th>\n",
       "      <td>...</td>\n",
       "      <td>...</td>\n",
       "    </tr>\n",
       "    <tr>\n",
       "      <th>3901</th>\n",
       "      <td>Privatization Has Been a Colossal Flop We have...</td>\n",
       "      <td>SCIENCE</td>\n",
       "    </tr>\n",
       "    <tr>\n",
       "      <th>8865</th>\n",
       "      <td>Astronomers Discover Tiny, Shy Moon Hiding In ...</td>\n",
       "      <td>SCIENCE</td>\n",
       "    </tr>\n",
       "    <tr>\n",
       "      <th>2303</th>\n",
       "      <td>Sisterhood: Powerful on Mars! I met three impr...</td>\n",
       "      <td>SCIENCE</td>\n",
       "    </tr>\n",
       "    <tr>\n",
       "      <th>7720</th>\n",
       "      <td>SOLVED? Massive Magnetic Star Mystery</td>\n",
       "      <td>SCIENCE</td>\n",
       "    </tr>\n",
       "    <tr>\n",
       "      <th>3190</th>\n",
       "      <td>The Huffington Post Is Looking For A Senior Sc...</td>\n",
       "      <td>SCIENCE</td>\n",
       "    </tr>\n",
       "  </tbody>\n",
       "</table>\n",
       "<p>5524 rows × 2 columns</p>\n",
       "</div>"
      ],
      "text/plain": [
       "                                                   text  category\n",
       "753   Iowa’s 60 Million Laying Hens Aren’t Being Mon...  BUSINESS\n",
       "4494  Dollar Charges To 14-Year High, Bond Tantrum I...  BUSINESS\n",
       "7432  GoDaddy Pulls The Plug On Neo-Nazi Website The...  BUSINESS\n",
       "3766  Women in Business Q&A: Darline Jean, COO, Puls...  BUSINESS\n",
       "9189  Rushion McDonald: Architect Behind the Steve H...  BUSINESS\n",
       "...                                                 ...       ...\n",
       "3901  Privatization Has Been a Colossal Flop We have...   SCIENCE\n",
       "8865  Astronomers Discover Tiny, Shy Moon Hiding In ...   SCIENCE\n",
       "2303  Sisterhood: Powerful on Mars! I met three impr...   SCIENCE\n",
       "7720             SOLVED? Massive Magnetic Star Mystery    SCIENCE\n",
       "3190  The Huffington Post Is Looking For A Senior Sc...   SCIENCE\n",
       "\n",
       "[5524 rows x 2 columns]"
      ]
     },
     "execution_count": 16,
     "metadata": {},
     "output_type": "execute_result"
    }
   ],
   "source": [
    "df_balanced=pd.concat([df_business,df_crime,df_sports,df_science],axis=0)\n",
    "df_balanced"
   ]
  },
  {
   "cell_type": "code",
   "execution_count": 17,
   "id": "95babd79",
   "metadata": {},
   "outputs": [],
   "source": [
    "#machine learning model cannot take string so we will convert text into no\n",
    "target={'BUSINESS':0,'SPORTS':1,'CRIME':2,'SCIENCE':3}\n",
    "df_balanced['category_num']=df_balanced.category.map(target)"
   ]
  },
  {
   "cell_type": "code",
   "execution_count": 18,
   "id": "b488a0c0",
   "metadata": {},
   "outputs": [
    {
     "data": {
      "text/plain": [
       "BUSINESS    1381\n",
       "CRIME       1381\n",
       "SPORTS      1381\n",
       "SCIENCE     1381\n",
       "Name: category, dtype: int64"
      ]
     },
     "execution_count": 18,
     "metadata": {},
     "output_type": "execute_result"
    }
   ],
   "source": [
    "df_balanced.category.value_counts()"
   ]
  },
  {
   "cell_type": "code",
   "execution_count": 19,
   "id": "2e92474d",
   "metadata": {},
   "outputs": [],
   "source": [
    "from sklearn.model_selection import train_test_split\n",
    "X_train,X_test,y_train,y_test=train_test_split(\n",
    "    df_balanced.text,\n",
    "    df_balanced.category_num,\n",
    "    test_size=0.2,\n",
    "    random_state=37,\n",
    "    stratify=df_balanced.category_num\n",
    "    \n",
    ")\n",
    "#The stratify parameter in this syntax is used to ensure that the target variable (in this case, \"category_num\" column in the dataframe \"df_balanced\") is equally distributed in both the training and testing sets. This is particularly useful when dealing with imbalanced datasets, where the distribution of the target variable is uneven"
   ]
  },
  {
   "cell_type": "code",
   "execution_count": 20,
   "id": "f3515b14",
   "metadata": {},
   "outputs": [
    {
     "data": {
      "text/plain": [
       "2    1105\n",
       "0    1105\n",
       "1    1105\n",
       "3    1104\n",
       "Name: category_num, dtype: int64"
      ]
     },
     "execution_count": 20,
     "metadata": {},
     "output_type": "execute_result"
    }
   ],
   "source": [
    "y_train.value_counts()"
   ]
  },
  {
   "cell_type": "code",
   "execution_count": 21,
   "id": "bdd85ebb",
   "metadata": {},
   "outputs": [],
   "source": [
    "from sklearn.naive_bayes import MultinomialNB\n",
    "from sklearn.pipeline import Pipeline\n",
    "from sklearn.metrics import classification_report"
   ]
  },
  {
   "cell_type": "code",
   "execution_count": 22,
   "id": "3d18a0d9",
   "metadata": {},
   "outputs": [],
   "source": [
    "model=Pipeline([\n",
    "    ('vectorizer_bow',CountVectorizer()),\n",
    "    ('Multi NB',MultinomialNB())\n",
    "])"
   ]
  },
  {
   "cell_type": "code",
   "execution_count": 23,
   "id": "674755ae",
   "metadata": {},
   "outputs": [],
   "source": [
    "model.fit(X_train,y_train)\n",
    "y_pred=model.predict(X_test)"
   ]
  },
  {
   "cell_type": "code",
   "execution_count": 25,
   "id": "e7cf62da",
   "metadata": {},
   "outputs": [
    {
     "name": "stdout",
     "output_type": "stream",
     "text": [
      "              precision    recall  f1-score   support\n",
      "\n",
      "           0       0.79      0.92      0.85       276\n",
      "           1       0.91      0.82      0.86       276\n",
      "           2       0.88      0.89      0.89       276\n",
      "           3       0.90      0.82      0.86       277\n",
      "\n",
      "    accuracy                           0.87      1105\n",
      "   macro avg       0.87      0.87      0.87      1105\n",
      "weighted avg       0.87      0.87      0.87      1105\n",
      "\n"
     ]
    }
   ],
   "source": [
    "print(classification_report(y_test,y_pred))\n",
    "#first argument is truth and second argument is test"
   ]
  },
  {
   "cell_type": "code",
   "execution_count": 31,
   "id": "4dfc5e43",
   "metadata": {},
   "outputs": [
    {
     "data": {
      "text/plain": [
       "1466     The Surprising Benefit Of Going Through Hard T...\n",
       "169      5 Reasons You Will Fail At Working From Home W...\n",
       "5498     SpaceX Executive Quits To Fight Trump As A Gra...\n",
       "11679    Elizabeth Warren Just Launched A New Attack On...\n",
       "2259     Solar Jobs Fell For The First Time In 7 Years ...\n",
       "Name: text, dtype: object"
      ]
     },
     "execution_count": 31,
     "metadata": {},
     "output_type": "execute_result"
    }
   ],
   "source": [
    "X_test[5:10]"
   ]
  },
  {
   "cell_type": "code",
   "execution_count": 32,
   "id": "bf9a1c0e",
   "metadata": {},
   "outputs": [
    {
     "data": {
      "text/plain": [
       "array([3, 0, 0, 0, 0], dtype=int64)"
      ]
     },
     "execution_count": 32,
     "metadata": {},
     "output_type": "execute_result"
    }
   ],
   "source": [
    "y_pred[5:10]"
   ]
  },
  {
   "cell_type": "code",
   "execution_count": 33,
   "id": "82545217",
   "metadata": {},
   "outputs": [
    {
     "data": {
      "text/plain": [
       "1466     3\n",
       "169      0\n",
       "5498     0\n",
       "11679    0\n",
       "2259     0\n",
       "Name: category_num, dtype: int64"
      ]
     },
     "execution_count": 33,
     "metadata": {},
     "output_type": "execute_result"
    }
   ],
   "source": [
    "y_test[5:10]"
   ]
  },
  {
   "cell_type": "code",
   "execution_count": null,
   "id": "1cd76690",
   "metadata": {},
   "outputs": [],
   "source": []
  }
 ],
 "metadata": {
  "kernelspec": {
   "display_name": "Python 3 (ipykernel)",
   "language": "python",
   "name": "python3"
  },
  "language_info": {
   "codemirror_mode": {
    "name": "ipython",
    "version": 3
   },
   "file_extension": ".py",
   "mimetype": "text/x-python",
   "name": "python",
   "nbconvert_exporter": "python",
   "pygments_lexer": "ipython3",
   "version": "3.9.12"
  }
 },
 "nbformat": 4,
 "nbformat_minor": 5
}
