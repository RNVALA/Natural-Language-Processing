{
 "cells": [
  {
   "cell_type": "markdown",
   "id": "a6cf8764",
   "metadata": {},
   "source": [
    "### Stop words\n",
    "- stop words are most common word in any language that donot carry any meaning and it is usually used in nlp\n",
    "- example are to, for, a, over, from , the  , had\n",
    "- it is part of preprocessing\n",
    "- example #this is good a movie----->remove stop words---->good movie\n",
    "- this is a not good movie--->remove stop words ------>good movie \n",
    "#### when not to remove stop words\n",
    "- problem arise in sentimental analysis.\n",
    "- in language translation donot remove the stop words \n",
    "  - example how are you doing dhaval?--->remove stop words--->dhaval?\n",
    "  - SO you cant translate dhaval to gujarati or telgu\n",
    "\n",
    "- it can not be use in machine translation, chat bot, any case where valuable information is lost"
   ]
  },
  {
   "cell_type": "code",
   "execution_count": 5,
   "id": "8e8954ae",
   "metadata": {},
   "outputs": [
    {
     "name": "stdout",
     "output_type": "stream",
     "text": [
      "326\n",
      "{'itself', 'once', 'something', 'empty', \"'d\", 'few', 'always', 'you', 'now', 'only', 'over', 'wherein', 'are', 'my', 'cannot', 'keep', 'amount', '’m', 'everyone', '‘s', 'toward', 'until', 'last', 'ever', 'fifteen', 'becoming', 'about', 'it', 'bottom', 'upon', 'to', '‘m', 'part', 'name', 'however', 'and', 'make', 'amongst', 'before', 'therein', 'nothing', 'full', 'himself', 'because', 'their', 'none', 'never', 'most', 'therefore', 'that', 'our', 'various', 'anyway', 'perhaps', 'became', 'is', 'take', 'nobody', 'within', '‘re', 'themselves', 'seemed', 'six', 'almost', 'more', 'us', 'fifty', 'whatever', 'noone', 'nevertheless', 'indeed', 'such', 'under', 'rather', 'a', 'then', 'on', 'enough', '’re', 'well', 'just', 'used', 'whether', 'yours', 'this', 'so', 'but', 'how', 'show', 'say', 'becomes', 'he', 'forty', 'above', 'top', 'really', 'out', 'could', 'afterwards', 'quite', 'these', 'whole', 'as', 'please', 'together', 'put', 'here', 'nine', 'yourselves', 'among', 'there', 'due', 'was', 'much', 'wherever', 'neither', 'both', 'whereby', 'ourselves', 'onto', 'twenty', 'nor', 'yourself', 'thus', 'too', 'elsewhere', 'during', 'n‘t', 'meanwhile', 'whereafter', 'towards', 'for', 'in', 'me', 'your', 'whither', 'whoever', 'might', 'several', 'two', 'whence', '’s', '’ve', 'though', 'also', 'mostly', 'besides', 'may', 'no', 'if', 'ca', \"'m\", '’ll', 'can', 'into', 'herself', 'even', 'own', 'against', 'hers', 'thereupon', 'again', 'unless', 'three', 'someone', 'mine', 'down', 'any', 'yet', 'where', 'beforehand', 'often', 'an', '‘d', 'or', 'whereupon', 'whose', 'four', 'hereafter', 'when', 'call', 'see', 'using', 'anyhow', 'done', 'get', 'those', 'whenever', 'eight', 'would', \"n't\", 'been', 'least', 'be', 'than', 'five', 'him', 'across', 'one', 'third', 'being', 'what', 'why', 'up', 'move', 'myself', 'after', 'else', 'has', \"'ll\", 'have', 'same', 'her', 'former', 'am', 'very', 'either', 'latter', 'others', 'every', 'namely', 'who', 'latterly', 'throughout', 'hence', 'we', 'below', 'each', 'first', 'next', 'will', 'since', 'of', 'must', 'they', 'otherwise', 'while', 'its', \"'re\", 'everywhere', 'does', 'should', 'the', 're', 'via', 'she', 'beyond', 'all', 'seeming', 'moreover', 'his', 'off', 'eleven', \"'ve\", 'serious', 'n’t', 'sometimes', 'somehow', 'ten', 'through', 'give', 'hereby', 'formerly', 'except', 'herein', 'do', 'at', 'other', 'anything', 'them', 'thereby', 'already', 'back', 'without', 'alone', 'between', 'with', '‘ve', 'front', 'thereafter', 'whereas', 'per', 'around', 'less', 'become', 'by', 'seem', 'further', 'hereupon', 'another', 'beside', 'somewhere', 'ours', 'hundred', 'sixty', 'anyone', 'behind', 'did', \"'s\", 'still', 'many', 'along', 'sometime', 'anywhere', 'thru', 'had', 'from', '‘ll', 'whom', 'not', 'i', 'seems', 'regarding', 'side', 'doing', 'made', 'nowhere', 'were', 'which', 'everything', 'go', 'some', '’d', 'twelve', 'although', 'thence'}\n"
     ]
    }
   ],
   "source": [
    "from spacy.lang.en.stop_words import STOP_WORDS\n",
    "print(len(STOP_WORDS))\n",
    "print(STOP_WORDS)"
   ]
  },
  {
   "cell_type": "code",
   "execution_count": 7,
   "id": "3645a546",
   "metadata": {},
   "outputs": [
    {
     "name": "stdout",
     "output_type": "stream",
     "text": [
      "we\n",
      "just\n",
      "our\n",
      "the\n",
      "part\n",
      "is\n"
     ]
    }
   ],
   "source": [
    "import spacy\n",
    "nlp=spacy.load(\"en_core_web_sm\")\n",
    "doc=nlp(\"we just opened our wings, the flying part is coming soon\")\n",
    "for token in doc:\n",
    "    if token.is_stop:\n",
    "        print(token)"
   ]
  },
  {
   "cell_type": "code",
   "execution_count": 38,
   "id": "107df4ca",
   "metadata": {},
   "outputs": [],
   "source": [
    "def preprocessing(text):\n",
    "    doc=nlp(text)\n",
    "    no_stop_word=[token.text for token in doc if not token.is_stop and not token.is_punct]\n",
    "    #return no_stop_word it will return in the form of string\n",
    "    return \" \".join(no_stop_word)#it will return in the string\n",
    "\n",
    "      \n",
    "            \n",
    "            "
   ]
  },
  {
   "cell_type": "code",
   "execution_count": 18,
   "id": "b0337d54",
   "metadata": {},
   "outputs": [
    {
     "data": {
      "text/plain": [
       "['opened', 'wings', 'flying', 'coming', 'soon']"
      ]
     },
     "execution_count": 18,
     "metadata": {},
     "output_type": "execute_result"
    }
   ],
   "source": [
    "preprocessing(\"we just opened our wings, the flying part is coming soon\")"
   ]
  },
  {
   "cell_type": "code",
   "execution_count": 23,
   "id": "45585069",
   "metadata": {},
   "outputs": [
    {
     "name": "stdout",
     "output_type": "stream",
     "text": [
      "(13087, 6)\n"
     ]
    },
    {
     "data": {
      "text/html": [
       "<div>\n",
       "<style scoped>\n",
       "    .dataframe tbody tr th:only-of-type {\n",
       "        vertical-align: middle;\n",
       "    }\n",
       "\n",
       "    .dataframe tbody tr th {\n",
       "        vertical-align: top;\n",
       "    }\n",
       "\n",
       "    .dataframe thead th {\n",
       "        text-align: right;\n",
       "    }\n",
       "</style>\n",
       "<table border=\"1\" class=\"dataframe\">\n",
       "  <thead>\n",
       "    <tr style=\"text-align: right;\">\n",
       "      <th></th>\n",
       "      <th>id</th>\n",
       "      <th>title</th>\n",
       "      <th>contents</th>\n",
       "      <th>date</th>\n",
       "      <th>topics</th>\n",
       "      <th>components</th>\n",
       "    </tr>\n",
       "  </thead>\n",
       "  <tbody>\n",
       "    <tr>\n",
       "      <th>0</th>\n",
       "      <td>None</td>\n",
       "      <td>Convicted Bomb Plotter Sentenced to 30 Years</td>\n",
       "      <td>PORTLAND, Oregon. – Mohamed Osman Mohamud, 23,...</td>\n",
       "      <td>2014-10-01T00:00:00-04:00</td>\n",
       "      <td>[]</td>\n",
       "      <td>[National Security Division (NSD)]</td>\n",
       "    </tr>\n",
       "    <tr>\n",
       "      <th>1</th>\n",
       "      <td>12-919</td>\n",
       "      <td>$1 Million in Restitution Payments Announced t...</td>\n",
       "      <td>WASHINGTON – North Carolina’s Waccamaw River...</td>\n",
       "      <td>2012-07-25T00:00:00-04:00</td>\n",
       "      <td>[]</td>\n",
       "      <td>[Environment and Natural Resources Division]</td>\n",
       "    </tr>\n",
       "    <tr>\n",
       "      <th>2</th>\n",
       "      <td>11-1002</td>\n",
       "      <td>$1 Million Settlement Reached for Natural Reso...</td>\n",
       "      <td>BOSTON– A $1-million settlement has been...</td>\n",
       "      <td>2011-08-03T00:00:00-04:00</td>\n",
       "      <td>[]</td>\n",
       "      <td>[Environment and Natural Resources Division]</td>\n",
       "    </tr>\n",
       "    <tr>\n",
       "      <th>3</th>\n",
       "      <td>10-015</td>\n",
       "      <td>10 Las Vegas Men Indicted \\r\\nfor Falsifying V...</td>\n",
       "      <td>WASHINGTON—A federal grand jury in Las Vegas...</td>\n",
       "      <td>2010-01-08T00:00:00-05:00</td>\n",
       "      <td>[]</td>\n",
       "      <td>[Environment and Natural Resources Division]</td>\n",
       "    </tr>\n",
       "    <tr>\n",
       "      <th>4</th>\n",
       "      <td>18-898</td>\n",
       "      <td>$100 Million Settlement Will Speed Cleanup Wor...</td>\n",
       "      <td>The U.S. Department of Justice, the U.S. Envir...</td>\n",
       "      <td>2018-07-09T00:00:00-04:00</td>\n",
       "      <td>[Environment]</td>\n",
       "      <td>[Environment and Natural Resources Division]</td>\n",
       "    </tr>\n",
       "  </tbody>\n",
       "</table>\n",
       "</div>"
      ],
      "text/plain": [
       "        id  ...                                    components\n",
       "0     None  ...            [National Security Division (NSD)]\n",
       "1  12-919   ...  [Environment and Natural Resources Division]\n",
       "2  11-1002  ...  [Environment and Natural Resources Division]\n",
       "3   10-015  ...  [Environment and Natural Resources Division]\n",
       "4   18-898  ...  [Environment and Natural Resources Division]\n",
       "\n",
       "[5 rows x 6 columns]"
      ]
     },
     "execution_count": 23,
     "metadata": {},
     "output_type": "execute_result"
    }
   ],
   "source": [
    "import pandas as pd\n",
    "df=pd.read_json(\"doj_press.json\",lines=True)\n",
    "print(df.shape)\n",
    "df.head()"
   ]
  },
  {
   "cell_type": "code",
   "execution_count": 24,
   "id": "89ae162d",
   "metadata": {},
   "outputs": [
    {
     "data": {
      "text/plain": [
       "<bound method DataFrame.info of             id  ...                                         components\n",
       "0         None  ...                 [National Security Division (NSD)]\n",
       "1      12-919   ...       [Environment and Natural Resources Division]\n",
       "2      11-1002  ...       [Environment and Natural Resources Division]\n",
       "3       10-015  ...       [Environment and Natural Resources Division]\n",
       "4       18-898  ...       [Environment and Natural Resources Division]\n",
       "...        ...  ...                                                ...\n",
       "13082   16-735  ...       [Environment and Natural Resources Division]\n",
       "13083   10-473  ...                   [Office of the Attorney General]\n",
       "13084   17-045  ...  [Criminal Division, Criminal - Criminal Fraud ...\n",
       "13085   17-252  ...  [National Security Division (NSD), USAO - Texa...\n",
       "13086   17-304  ...  [National Security Division (NSD), USAO - Texa...\n",
       "\n",
       "[13087 rows x 6 columns]>"
      ]
     },
     "execution_count": 24,
     "metadata": {},
     "output_type": "execute_result"
    }
   ],
   "source": [
    "df.info"
   ]
  },
  {
   "cell_type": "code",
   "execution_count": 25,
   "id": "51b4e4dd",
   "metadata": {},
   "outputs": [
    {
     "data": {
      "text/html": [
       "<div>\n",
       "<style scoped>\n",
       "    .dataframe tbody tr th:only-of-type {\n",
       "        vertical-align: middle;\n",
       "    }\n",
       "\n",
       "    .dataframe tbody tr th {\n",
       "        vertical-align: top;\n",
       "    }\n",
       "\n",
       "    .dataframe thead th {\n",
       "        text-align: right;\n",
       "    }\n",
       "</style>\n",
       "<table border=\"1\" class=\"dataframe\">\n",
       "  <thead>\n",
       "    <tr style=\"text-align: right;\">\n",
       "      <th></th>\n",
       "      <th>id</th>\n",
       "      <th>title</th>\n",
       "      <th>contents</th>\n",
       "      <th>date</th>\n",
       "      <th>topics</th>\n",
       "      <th>components</th>\n",
       "    </tr>\n",
       "  </thead>\n",
       "  <tbody>\n",
       "    <tr>\n",
       "      <th>count</th>\n",
       "      <td>12810</td>\n",
       "      <td>13087</td>\n",
       "      <td>13087</td>\n",
       "      <td>13087</td>\n",
       "      <td>13087</td>\n",
       "      <td>13087</td>\n",
       "    </tr>\n",
       "    <tr>\n",
       "      <th>unique</th>\n",
       "      <td>12672</td>\n",
       "      <td>12887</td>\n",
       "      <td>13080</td>\n",
       "      <td>2400</td>\n",
       "      <td>253</td>\n",
       "      <td>810</td>\n",
       "    </tr>\n",
       "    <tr>\n",
       "      <th>top</th>\n",
       "      <td>13-526</td>\n",
       "      <td>Northern California Real Estate Investor Agree...</td>\n",
       "      <td>WASHINGTON – ING Bank N.V., a financial inst...</td>\n",
       "      <td>2018-04-13T00:00:00-04:00</td>\n",
       "      <td>[]</td>\n",
       "      <td>[Criminal Division]</td>\n",
       "    </tr>\n",
       "    <tr>\n",
       "      <th>freq</th>\n",
       "      <td>3</td>\n",
       "      <td>8</td>\n",
       "      <td>2</td>\n",
       "      <td>20</td>\n",
       "      <td>8399</td>\n",
       "      <td>2680</td>\n",
       "    </tr>\n",
       "  </tbody>\n",
       "</table>\n",
       "</div>"
      ],
      "text/plain": [
       "            id                                              title  ... topics           components\n",
       "count    12810                                              13087  ...  13087                13087\n",
       "unique   12672                                              12887  ...    253                  810\n",
       "top     13-526  Northern California Real Estate Investor Agree...  ...     []  [Criminal Division]\n",
       "freq         3                                                  8  ...   8399                 2680\n",
       "\n",
       "[4 rows x 6 columns]"
      ]
     },
     "execution_count": 25,
     "metadata": {},
     "output_type": "execute_result"
    }
   ],
   "source": [
    "df.describe()"
   ]
  },
  {
   "cell_type": "code",
   "execution_count": 26,
   "id": "76dbe152",
   "metadata": {},
   "outputs": [
    {
     "data": {
      "text/html": [
       "<div>\n",
       "<style scoped>\n",
       "    .dataframe tbody tr th:only-of-type {\n",
       "        vertical-align: middle;\n",
       "    }\n",
       "\n",
       "    .dataframe tbody tr th {\n",
       "        vertical-align: top;\n",
       "    }\n",
       "\n",
       "    .dataframe thead th {\n",
       "        text-align: right;\n",
       "    }\n",
       "</style>\n",
       "<table border=\"1\" class=\"dataframe\">\n",
       "  <thead>\n",
       "    <tr style=\"text-align: right;\">\n",
       "      <th></th>\n",
       "      <th>id</th>\n",
       "      <th>title</th>\n",
       "      <th>contents</th>\n",
       "      <th>date</th>\n",
       "      <th>topics</th>\n",
       "      <th>components</th>\n",
       "    </tr>\n",
       "  </thead>\n",
       "  <tbody>\n",
       "    <tr>\n",
       "      <th>4</th>\n",
       "      <td>18-898</td>\n",
       "      <td>$100 Million Settlement Will Speed Cleanup Wor...</td>\n",
       "      <td>The U.S. Department of Justice, the U.S. Envir...</td>\n",
       "      <td>2018-07-09T00:00:00-04:00</td>\n",
       "      <td>[Environment]</td>\n",
       "      <td>[Environment and Natural Resources Division]</td>\n",
       "    </tr>\n",
       "    <tr>\n",
       "      <th>7</th>\n",
       "      <td>14-1412</td>\n",
       "      <td>14 Indicted in Connection with New England Com...</td>\n",
       "      <td>A 131-count criminal indictment was unsealed t...</td>\n",
       "      <td>2014-12-17T00:00:00-05:00</td>\n",
       "      <td>[Consumer Protection]</td>\n",
       "      <td>[Civil Division]</td>\n",
       "    </tr>\n",
       "    <tr>\n",
       "      <th>19</th>\n",
       "      <td>17-1419</td>\n",
       "      <td>2017 Southeast Regional Animal Cruelty Prosecu...</td>\n",
       "      <td>The United States Attorney’s Office for the Mi...</td>\n",
       "      <td>2017-12-14T00:00:00-05:00</td>\n",
       "      <td>[Environment]</td>\n",
       "      <td>[Environment and Natural Resources Division, U...</td>\n",
       "    </tr>\n",
       "    <tr>\n",
       "      <th>22</th>\n",
       "      <td>15-1562</td>\n",
       "      <td>21st Century Oncology to Pay $19.75 Million to...</td>\n",
       "      <td>21st Century Oncology LLC, has agreed to pay $...</td>\n",
       "      <td>2015-12-18T00:00:00-05:00</td>\n",
       "      <td>[False Claims Act, Health Care Fraud]</td>\n",
       "      <td>[Civil Division]</td>\n",
       "    </tr>\n",
       "    <tr>\n",
       "      <th>23</th>\n",
       "      <td>17-1404</td>\n",
       "      <td>21st Century Oncology to Pay $26 Million to Se...</td>\n",
       "      <td>21st Century Oncology Inc. and certain of its ...</td>\n",
       "      <td>2017-12-12T00:00:00-05:00</td>\n",
       "      <td>[Health Care Fraud, False Claims Act]</td>\n",
       "      <td>[Civil Division, USAO - Florida, Middle]</td>\n",
       "    </tr>\n",
       "  </tbody>\n",
       "</table>\n",
       "</div>"
      ],
      "text/plain": [
       "         id  ...                                         components\n",
       "4    18-898  ...       [Environment and Natural Resources Division]\n",
       "7   14-1412  ...                                   [Civil Division]\n",
       "19  17-1419  ...  [Environment and Natural Resources Division, U...\n",
       "22  15-1562  ...                                   [Civil Division]\n",
       "23  17-1404  ...           [Civil Division, USAO - Florida, Middle]\n",
       "\n",
       "[5 rows x 6 columns]"
      ]
     },
     "execution_count": 26,
     "metadata": {},
     "output_type": "execute_result"
    }
   ],
   "source": [
    "df=df[df['topics'].str.len()!=0]#df['topics'].str.len()!=0 it is my filtering condition\n",
    "df.head()"
   ]
  },
  {
   "cell_type": "code",
   "execution_count": 27,
   "id": "93cf2882",
   "metadata": {},
   "outputs": [
    {
     "data": {
      "text/plain": [
       "(4688, 6)"
      ]
     },
     "execution_count": 27,
     "metadata": {},
     "output_type": "execute_result"
    }
   ],
   "source": [
    "df.shape"
   ]
  },
  {
   "cell_type": "code",
   "execution_count": 29,
   "id": "386d914a",
   "metadata": {},
   "outputs": [
    {
     "data": {
      "text/plain": [
       "(100, 6)"
      ]
     },
     "execution_count": 29,
     "metadata": {},
     "output_type": "execute_result"
    }
   ],
   "source": [
    "df=df.head(100)\n",
    "df.shape"
   ]
  },
  {
   "cell_type": "code",
   "execution_count": 34,
   "id": "32031250",
   "metadata": {},
   "outputs": [
    {
     "name": "stdout",
     "output_type": "stream",
     "text": [
      "5504\n",
      "21st Century Oncology Inc. and certain of its subsidiaries and affiliates have agreed to pay $26 million to the government to resolve a self-disclosure relating to the submission of false attestations regarding the company’s use of electronic health records software and separate allegations that they violated the False Claims Act by submitting, or causing the submission of, claims for certain services provided pursuant to referrals from physicians with whom they had improper financial relationships.   “The Justice Department is committed to zealously investigating improper financial relationships that have the potential to compromise physicians’ medical judgment,” said Acting Assistant Attorney General Chad A. Readler of the Justice Department’s Civil Division.  “However, we will work with companies that accept responsibility for their past compliance failures and promptly take corrective action.”    21st Century Oncology, which is headquartered in Fort Myers, Florida, owns and operates subsidiaries and affiliates throughout the United States that provide integrated cancer care.  As part of its business, 21st Century Oncology’s subsidiaries and affiliates employ physicians in specialty fields such as radiation oncology, medical oncology, and urology.     The settlement announced today resolves conduct that was self-disclosed by the company regarding payments made by the government as part of the Medicare Electronic Health Records (EHR) Incentive Program.  Under the Medicare EHR Incentive Program, physicians who attest to their meaningful use of certified EHR technology may receive incentive payments and avoid downward adjustments to certain Medicare claims.  As part of its self-disclosure, 21st Century Oncology reported that it knowingly submitted, or caused the submission of, false attestations to CMS concerning employed physicians’ use of EHR software.  The company further reported that, in support of the attestations, its employees falsified data regarding the company’s use of EHR software, fabricated software utilization reports, and superimposed EHR vendor logos onto the reports to make them look legitimate.     “This settlement represents our office’s continued commitment to ensuring compliance with important federal health care laws,” said Acting U.S. Attorney Stephen Muldrow of the Middle District of Florida.  “We appreciate that 21st Century Oncology self-reported a major fraud affecting Medicare, and we are also pleased that the company has agreed to accept financial responsibility for past compliance failures.”   The settlement also resolves the government’s allegations regarding violations of the physician self-referral law (commonly referred to as the “Stark Law.”)  The Stark Law prohibits an entity from submitting claims to Medicare for designated health services performed pursuant to referrals from physicians with whom the entity has a financial relationship unless certain designated exceptions apply.  The government alleged that 21st Century Oncology and certain of its subsidiaries and affiliates violated the FCA by submitting, or causing the submission of, claims for services performed pursuant to referrals from physicians whose compensation did not satisfy any exception to the Stark Law.   The Stark Law allegations were originally brought in a lawsuit filed by Matthew Moore, 21st Century Oncology’s former Interim Vice President of Financial Planning, under the qui tam provisions of the False Claims Act.  Under the Act, private parties may bring suit on behalf of the government and share in any recovery.  Mr. Moore will receive $2,000,000 as his share of the recovery associated with the Stark Law allegations.   In addition to the civil settlement, 21st Century Oncology has entered into a new five-year Corporate Integrity Agreement with the Office of Inspector General of the United States Department of Health and Human Services (HHS-OIG), which obligates 21st Century Oncology to undertake substantial internal compliance reforms, including hiring independent review organizations to conduct annual claims and arrangements reviews.    “21st Century Oncology admitted to causing violation of the meaningful use regulations in order to fund an electronic health records system, as well as falsifying records to cover up those actions,” said Shimon R. Richmond, Special Agent in Charge for the Office of Inspector General of the U.S. Department of Health and Human Services.  “Separately, the government alleged that same company, through its affiliates and subsidiaries, caused certain physicians to enter into illegal financial arrangements.  Providers engaging in similar behavior should expect attention from OIG.”      The government’s resolution of this matter illustrates the government’s emphasis on combating health care fraud.  Tips and complaints from all sources about potential fraud, waste, abuse, and mismanagement can be reported to the Department of Health and Human Services at 900-HHS-TIPS (800-447-8477).   The investigation was handled by the Civil Division’s Commercial Litigation Branch and the Fort Myers Division of the U.S. Attorney’s Office for the Middle District of Florida, with assistance from the U.S. Attorney’s Office for the Southern District of New York and HHS-OIG.  The claims resolved by this settlement are allegations only; there has been no determination of liability.  The case is captioned United States ex rel. Moore v. 21st Century Oncology, LLC, No. 2:16-cv-99 (M.D. Fl.).\n"
     ]
    }
   ],
   "source": [
    "print(len(df[\"contents\"].iloc[4]))\n",
    "print(df[\"contents\"].iloc[4])"
   ]
  },
  {
   "cell_type": "code",
   "execution_count": 39,
   "id": "f7a12f84",
   "metadata": {},
   "outputs": [
    {
     "data": {
      "text/html": [
       "<div>\n",
       "<style scoped>\n",
       "    .dataframe tbody tr th:only-of-type {\n",
       "        vertical-align: middle;\n",
       "    }\n",
       "\n",
       "    .dataframe tbody tr th {\n",
       "        vertical-align: top;\n",
       "    }\n",
       "\n",
       "    .dataframe thead th {\n",
       "        text-align: right;\n",
       "    }\n",
       "</style>\n",
       "<table border=\"1\" class=\"dataframe\">\n",
       "  <thead>\n",
       "    <tr style=\"text-align: right;\">\n",
       "      <th></th>\n",
       "      <th>id</th>\n",
       "      <th>title</th>\n",
       "      <th>contents</th>\n",
       "      <th>date</th>\n",
       "      <th>topics</th>\n",
       "      <th>components</th>\n",
       "      <th>contens_new</th>\n",
       "    </tr>\n",
       "  </thead>\n",
       "  <tbody>\n",
       "    <tr>\n",
       "      <th>4</th>\n",
       "      <td>18-898</td>\n",
       "      <td>$100 Million Settlement Will Speed Cleanup Wor...</td>\n",
       "      <td>The U.S. Department of Justice, the U.S. Envir...</td>\n",
       "      <td>2018-07-09T00:00:00-04:00</td>\n",
       "      <td>[Environment]</td>\n",
       "      <td>[Environment and Natural Resources Division]</td>\n",
       "      <td>U.S. Department Justice U.S. Environmental Pro...</td>\n",
       "    </tr>\n",
       "    <tr>\n",
       "      <th>7</th>\n",
       "      <td>14-1412</td>\n",
       "      <td>14 Indicted in Connection with New England Com...</td>\n",
       "      <td>A 131-count criminal indictment was unsealed t...</td>\n",
       "      <td>2014-12-17T00:00:00-05:00</td>\n",
       "      <td>[Consumer Protection]</td>\n",
       "      <td>[Civil Division]</td>\n",
       "      <td>131 count criminal indictment unsealed today B...</td>\n",
       "    </tr>\n",
       "    <tr>\n",
       "      <th>19</th>\n",
       "      <td>17-1419</td>\n",
       "      <td>2017 Southeast Regional Animal Cruelty Prosecu...</td>\n",
       "      <td>The United States Attorney’s Office for the Mi...</td>\n",
       "      <td>2017-12-14T00:00:00-05:00</td>\n",
       "      <td>[Environment]</td>\n",
       "      <td>[Environment and Natural Resources Division, U...</td>\n",
       "      <td>United States Attorney Office Middle District ...</td>\n",
       "    </tr>\n",
       "    <tr>\n",
       "      <th>22</th>\n",
       "      <td>15-1562</td>\n",
       "      <td>21st Century Oncology to Pay $19.75 Million to...</td>\n",
       "      <td>21st Century Oncology LLC, has agreed to pay $...</td>\n",
       "      <td>2015-12-18T00:00:00-05:00</td>\n",
       "      <td>[False Claims Act, Health Care Fraud]</td>\n",
       "      <td>[Civil Division]</td>\n",
       "      <td>21st Century Oncology LLC agreed pay $ 19.75 m...</td>\n",
       "    </tr>\n",
       "    <tr>\n",
       "      <th>23</th>\n",
       "      <td>17-1404</td>\n",
       "      <td>21st Century Oncology to Pay $26 Million to Se...</td>\n",
       "      <td>21st Century Oncology Inc. and certain of its ...</td>\n",
       "      <td>2017-12-12T00:00:00-05:00</td>\n",
       "      <td>[Health Care Fraud, False Claims Act]</td>\n",
       "      <td>[Civil Division, USAO - Florida, Middle]</td>\n",
       "      <td>21st Century Oncology Inc. certain subsidiarie...</td>\n",
       "    </tr>\n",
       "  </tbody>\n",
       "</table>\n",
       "</div>"
      ],
      "text/plain": [
       "         id  ...                                        contens_new\n",
       "4    18-898  ...  U.S. Department Justice U.S. Environmental Pro...\n",
       "7   14-1412  ...  131 count criminal indictment unsealed today B...\n",
       "19  17-1419  ...  United States Attorney Office Middle District ...\n",
       "22  15-1562  ...  21st Century Oncology LLC agreed pay $ 19.75 m...\n",
       "23  17-1404  ...  21st Century Oncology Inc. certain subsidiarie...\n",
       "\n",
       "[5 rows x 7 columns]"
      ]
     },
     "execution_count": 39,
     "metadata": {},
     "output_type": "execute_result"
    }
   ],
   "source": [
    "df[\"contens_new\"]=df[\"contents\"].apply(preprocessing)\n",
    "df.head()"
   ]
  },
  {
   "cell_type": "code",
   "execution_count": 41,
   "id": "56cdbfea",
   "metadata": {},
   "outputs": [
    {
     "name": "stdout",
     "output_type": "stream",
     "text": [
      "5504\n"
     ]
    },
    {
     "data": {
      "text/plain": [
       "4217"
      ]
     },
     "execution_count": 41,
     "metadata": {},
     "output_type": "execute_result"
    }
   ],
   "source": [
    "print(len(df[\"contents\"].iloc[4]))\n",
    "len(df[\"contens_new\"].iloc[4])\n",
    "#here you can see that it removes the stop words"
   ]
  },
  {
   "cell_type": "code",
   "execution_count": null,
   "id": "0a6934bc",
   "metadata": {},
   "outputs": [],
   "source": []
  }
 ],
 "metadata": {
  "kernelspec": {
   "display_name": "Python 3 (ipykernel)",
   "language": "python",
   "name": "python3"
  },
  "language_info": {
   "codemirror_mode": {
    "name": "ipython",
    "version": 3
   },
   "file_extension": ".py",
   "mimetype": "text/x-python",
   "name": "python",
   "nbconvert_exporter": "python",
   "pygments_lexer": "ipython3",
   "version": "3.9.12"
  }
 },
 "nbformat": 4,
 "nbformat_minor": 5
}
